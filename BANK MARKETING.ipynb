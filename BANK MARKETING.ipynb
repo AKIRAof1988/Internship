{
 "cells": [
  {
   "cell_type": "markdown",
   "id": "73ac5704",
   "metadata": {},
   "source": [
    "**Project Description**\n",
    "\n",
    "Your client is a retail banking institution. Term deposits are a major source of income for a bank. A term deposit is a cash investment held at a financial institution. Your money is invested for an agreed rate of interest over a fixed amount of time, or term. The bank has various outreach plans to sell term deposits to their customers such as email marketing, advertisements, telephonic marketing and digital marketing. Telephonic marketing campaigns still remain one of the most effective way to reach out to people. However, they require huge investment as large call centers are hired to actually execute these campaigns. Hence, it is crucial to identify the customers most likely to convert beforehand so that they can be specifically targeted via call.\n",
    "You are provided with the client data such as : age of the client, their job type, their marital status, etc. Along with the client data, you are also provided with the information of the call such as the duration of the call, day and month of the call, etc. Given this information, your task is to predict if the client will subscribe to term deposit.\n"
   ]
  },
  {
   "cell_type": "code",
   "execution_count": 48,
   "id": "bff67629",
   "metadata": {},
   "outputs": [
    {
     "data": {
      "text/html": [
       "<div>\n",
       "<style scoped>\n",
       "    .dataframe tbody tr th:only-of-type {\n",
       "        vertical-align: middle;\n",
       "    }\n",
       "\n",
       "    .dataframe tbody tr th {\n",
       "        vertical-align: top;\n",
       "    }\n",
       "\n",
       "    .dataframe thead th {\n",
       "        text-align: right;\n",
       "    }\n",
       "</style>\n",
       "<table border=\"1\" class=\"dataframe\">\n",
       "  <thead>\n",
       "    <tr style=\"text-align: right;\">\n",
       "      <th></th>\n",
       "      <th>ID</th>\n",
       "      <th>age</th>\n",
       "      <th>job</th>\n",
       "      <th>marital</th>\n",
       "      <th>education</th>\n",
       "      <th>default</th>\n",
       "      <th>balance</th>\n",
       "      <th>housing</th>\n",
       "      <th>loan</th>\n",
       "      <th>contact</th>\n",
       "      <th>day</th>\n",
       "      <th>month</th>\n",
       "      <th>duration</th>\n",
       "      <th>campaign</th>\n",
       "      <th>pdays</th>\n",
       "      <th>previous</th>\n",
       "      <th>poutcome</th>\n",
       "      <th>subscribed</th>\n",
       "    </tr>\n",
       "  </thead>\n",
       "  <tbody>\n",
       "    <tr>\n",
       "      <th>0</th>\n",
       "      <td>26110</td>\n",
       "      <td>56</td>\n",
       "      <td>admin.</td>\n",
       "      <td>married</td>\n",
       "      <td>unknown</td>\n",
       "      <td>no</td>\n",
       "      <td>1933</td>\n",
       "      <td>no</td>\n",
       "      <td>no</td>\n",
       "      <td>telephone</td>\n",
       "      <td>19</td>\n",
       "      <td>nov</td>\n",
       "      <td>44</td>\n",
       "      <td>2</td>\n",
       "      <td>-1</td>\n",
       "      <td>0</td>\n",
       "      <td>unknown</td>\n",
       "      <td>no</td>\n",
       "    </tr>\n",
       "    <tr>\n",
       "      <th>1</th>\n",
       "      <td>40576</td>\n",
       "      <td>31</td>\n",
       "      <td>unknown</td>\n",
       "      <td>married</td>\n",
       "      <td>secondary</td>\n",
       "      <td>no</td>\n",
       "      <td>3</td>\n",
       "      <td>no</td>\n",
       "      <td>no</td>\n",
       "      <td>cellular</td>\n",
       "      <td>20</td>\n",
       "      <td>jul</td>\n",
       "      <td>91</td>\n",
       "      <td>2</td>\n",
       "      <td>-1</td>\n",
       "      <td>0</td>\n",
       "      <td>unknown</td>\n",
       "      <td>no</td>\n",
       "    </tr>\n",
       "    <tr>\n",
       "      <th>2</th>\n",
       "      <td>15320</td>\n",
       "      <td>27</td>\n",
       "      <td>services</td>\n",
       "      <td>married</td>\n",
       "      <td>secondary</td>\n",
       "      <td>no</td>\n",
       "      <td>891</td>\n",
       "      <td>yes</td>\n",
       "      <td>no</td>\n",
       "      <td>cellular</td>\n",
       "      <td>18</td>\n",
       "      <td>jul</td>\n",
       "      <td>240</td>\n",
       "      <td>1</td>\n",
       "      <td>-1</td>\n",
       "      <td>0</td>\n",
       "      <td>unknown</td>\n",
       "      <td>no</td>\n",
       "    </tr>\n",
       "    <tr>\n",
       "      <th>3</th>\n",
       "      <td>43962</td>\n",
       "      <td>57</td>\n",
       "      <td>management</td>\n",
       "      <td>divorced</td>\n",
       "      <td>tertiary</td>\n",
       "      <td>no</td>\n",
       "      <td>3287</td>\n",
       "      <td>no</td>\n",
       "      <td>no</td>\n",
       "      <td>cellular</td>\n",
       "      <td>22</td>\n",
       "      <td>jun</td>\n",
       "      <td>867</td>\n",
       "      <td>1</td>\n",
       "      <td>84</td>\n",
       "      <td>3</td>\n",
       "      <td>success</td>\n",
       "      <td>yes</td>\n",
       "    </tr>\n",
       "    <tr>\n",
       "      <th>4</th>\n",
       "      <td>29842</td>\n",
       "      <td>31</td>\n",
       "      <td>technician</td>\n",
       "      <td>married</td>\n",
       "      <td>secondary</td>\n",
       "      <td>no</td>\n",
       "      <td>119</td>\n",
       "      <td>yes</td>\n",
       "      <td>no</td>\n",
       "      <td>cellular</td>\n",
       "      <td>4</td>\n",
       "      <td>feb</td>\n",
       "      <td>380</td>\n",
       "      <td>1</td>\n",
       "      <td>-1</td>\n",
       "      <td>0</td>\n",
       "      <td>unknown</td>\n",
       "      <td>no</td>\n",
       "    </tr>\n",
       "  </tbody>\n",
       "</table>\n",
       "</div>"
      ],
      "text/plain": [
       "      ID  age         job   marital  education default  balance housing loan  \\\n",
       "0  26110   56      admin.   married    unknown      no     1933      no   no   \n",
       "1  40576   31     unknown   married  secondary      no        3      no   no   \n",
       "2  15320   27    services   married  secondary      no      891     yes   no   \n",
       "3  43962   57  management  divorced   tertiary      no     3287      no   no   \n",
       "4  29842   31  technician   married  secondary      no      119     yes   no   \n",
       "\n",
       "     contact  day month  duration  campaign  pdays  previous poutcome  \\\n",
       "0  telephone   19   nov        44         2     -1         0  unknown   \n",
       "1   cellular   20   jul        91         2     -1         0  unknown   \n",
       "2   cellular   18   jul       240         1     -1         0  unknown   \n",
       "3   cellular   22   jun       867         1     84         3  success   \n",
       "4   cellular    4   feb       380         1     -1         0  unknown   \n",
       "\n",
       "  subscribed  \n",
       "0         no  \n",
       "1         no  \n",
       "2         no  \n",
       "3        yes  \n",
       "4         no  "
      ]
     },
     "execution_count": 48,
     "metadata": {},
     "output_type": "execute_result"
    }
   ],
   "source": [
    "import pandas as pd\n",
    "\n",
    "# Load the dataset from the URL into a DataFrame\n",
    "url = 'https://raw.githubusercontent.com/dsrscientist/dataset5/main/termdeposit_train.csv'\n",
    "df = pd.read_csv(url)\n",
    "\n",
    "# Display the first few rows of the DataFrame to ensure it's loaded properly\n",
    "df.head()"
   ]
  },
  {
   "cell_type": "markdown",
   "id": "fd2ee37f",
   "metadata": {},
   "source": [
    "In this project, given the prevalence of descriptive and categorical data, I've intentionally chosen to skip traditional descriptive statistics. Instead, I'll focus on preprocessing these data types by encoding the text-based information and selectively dropping certain columns. This approach aims to streamline the data preparation process by transforming textual information into numerical representations while strategically reducing the dimensionality of the dataset."
   ]
  },
  {
   "cell_type": "code",
   "execution_count": 49,
   "id": "328f544f",
   "metadata": {},
   "outputs": [
    {
     "data": {
      "text/plain": [
       "(31647, 18)"
      ]
     },
     "execution_count": 49,
     "metadata": {},
     "output_type": "execute_result"
    }
   ],
   "source": [
    "df.shape"
   ]
  },
  {
   "cell_type": "code",
   "execution_count": 50,
   "id": "db707441",
   "metadata": {},
   "outputs": [
    {
     "name": "stdout",
     "output_type": "stream",
     "text": [
      "<class 'pandas.core.frame.DataFrame'>\n",
      "RangeIndex: 31647 entries, 0 to 31646\n",
      "Data columns (total 18 columns):\n",
      " #   Column      Non-Null Count  Dtype \n",
      "---  ------      --------------  ----- \n",
      " 0   ID          31647 non-null  int64 \n",
      " 1   age         31647 non-null  int64 \n",
      " 2   job         31647 non-null  object\n",
      " 3   marital     31647 non-null  object\n",
      " 4   education   31647 non-null  object\n",
      " 5   default     31647 non-null  object\n",
      " 6   balance     31647 non-null  int64 \n",
      " 7   housing     31647 non-null  object\n",
      " 8   loan        31647 non-null  object\n",
      " 9   contact     31647 non-null  object\n",
      " 10  day         31647 non-null  int64 \n",
      " 11  month       31647 non-null  object\n",
      " 12  duration    31647 non-null  int64 \n",
      " 13  campaign    31647 non-null  int64 \n",
      " 14  pdays       31647 non-null  int64 \n",
      " 15  previous    31647 non-null  int64 \n",
      " 16  poutcome    31647 non-null  object\n",
      " 17  subscribed  31647 non-null  object\n",
      "dtypes: int64(8), object(10)\n",
      "memory usage: 4.3+ MB\n"
     ]
    }
   ],
   "source": [
    "df.info()"
   ]
  },
  {
   "cell_type": "markdown",
   "id": "847b01ff",
   "metadata": {},
   "source": [
    "**There are no null values in the dataset.**"
   ]
  },
  {
   "cell_type": "code",
   "execution_count": 51,
   "id": "dfe0baff",
   "metadata": {},
   "outputs": [],
   "source": [
    "df.drop(['month','ID','contact', 'day'], axis=1, inplace=True)\n",
    "#dropping columns month, ID, contact,day as they have no significance for classifing task.\n",
    "\n",
    "# One-Hot Encoding for 'marital' and 'education'\n",
    "from sklearn.preprocessing import LabelEncoder\n",
    "\n",
    "encoded_df = pd.get_dummies(df, columns=['marital', 'education','poutcome','job'])\n",
    "\n",
    "# Label Encoding for 'default' and 'housing'\n",
    "label_encoder = LabelEncoder()\n",
    "encoded_df['default'] = label_encoder.fit_transform(df['default'])\n",
    "encoded_df['housing'] = label_encoder.fit_transform(df['housing'])\n",
    "encoded_df['subscribed'] = label_encoder.fit_transform(df['subscribed'])\n",
    "encoded_df['loan'] = label_encoder.fit_transform(df['loan'])\n"
   ]
  },
  {
   "cell_type": "markdown",
   "id": "18c60766",
   "metadata": {},
   "source": [
    "encoding ['marital', 'education','poutcome','job'] into one hot encdoding and rest to label encodings."
   ]
  },
  {
   "cell_type": "markdown",
   "id": "a133d769",
   "metadata": {},
   "source": [
    "Random Forest classifiers, scaling the data might not be necessary. Random Forest models are not sensitive to the scale of numeric features due to their nature of making decisions based on feature splits rather than on the feature values themselves. Therefore, in many cases, scaling is not a prerequisite when using Random Forest algorithms."
   ]
  },
  {
   "cell_type": "code",
   "execution_count": 52,
   "id": "e6a380ec",
   "metadata": {},
   "outputs": [],
   "source": [
    "# Separate the target variable 'subscribed' into y\n",
    "y = encoded_df['subscribed']\n",
    "\n",
    "# Separate the features (excluding 'subscribed') into X\n",
    "X = encoded_df.drop('subscribed', axis=1)"
   ]
  },
  {
   "cell_type": "code",
   "execution_count": 53,
   "id": "a0b2b248",
   "metadata": {},
   "outputs": [
    {
     "data": {
      "text/plain": [
       "0    27932\n",
       "1     3715\n",
       "Name: subscribed, dtype: int64"
      ]
     },
     "execution_count": 53,
     "metadata": {},
     "output_type": "execute_result"
    }
   ],
   "source": [
    "y.value_counts()"
   ]
  },
  {
   "cell_type": "markdown",
   "id": "3a5201fb",
   "metadata": {},
   "source": [
    "0  --->  27932\n",
    "\n",
    "1  --->   3715\n",
    "\n",
    "The dataset indicates an imbalance where the number of data points in the 0th category outweighs those in the 1st category. This imbalance can introduce bias, leading the model to favor classifying instances into the 0th category. To address this issue, we'll implement oversampling specifically for the 1st category. By oversampling the minority class (1st category), we aim to mitigate this imbalance and enable the model to learn more effectively from the underrepresented class."
   ]
  },
  {
   "cell_type": "code",
   "execution_count": 54,
   "id": "af8bd0b3",
   "metadata": {},
   "outputs": [],
   "source": [
    "from imblearn.over_sampling import SMOTE\n",
    "\n",
    "# Assuming 'X' represents your feature dataset and 'y' is your target variable\n",
    "# Create an instance of SMOTE\n",
    "smote = SMOTE(random_state=42)\n",
    "\n",
    "# Oversample the minority class in 'y'\n",
    "X_oversampled, y_oversampled = smote.fit_resample(X, y)"
   ]
  },
  {
   "cell_type": "markdown",
   "id": "733b9b52",
   "metadata": {},
   "source": [
    "**Now we will create a Random Forrest Classifier model**"
   ]
  },
  {
   "cell_type": "code",
   "execution_count": 55,
   "id": "308f42a7",
   "metadata": {},
   "outputs": [
    {
     "name": "stdout",
     "output_type": "stream",
     "text": [
      "Classification Report for Random Forest (with oversampling):\n",
      "              precision    recall  f1-score   support\n",
      "\n",
      "           0       0.93      0.96      0.94      5603\n",
      "           1       0.95      0.92      0.94      5570\n",
      "\n",
      "    accuracy                           0.94     11173\n",
      "   macro avg       0.94      0.94      0.94     11173\n",
      "weighted avg       0.94      0.94      0.94     11173\n",
      "\n"
     ]
    }
   ],
   "source": [
    "from sklearn.ensemble import RandomForestClassifier\n",
    "from sklearn.model_selection import train_test_split\n",
    "from sklearn.metrics import classification_report\n",
    "\n",
    "# Split the oversampled data into training and test sets\n",
    "X_train_os, X_test_os, y_train_os, y_test_os = train_test_split(X_oversampled, y_oversampled, test_size=0.2, random_state=42)\n",
    "\n",
    "# Create a Random Forest Classifier\n",
    "rf_classifier = RandomForestClassifier(random_state=42)  # You can adjust hyperparameters here\n",
    "\n",
    "# Train the classifier using the oversampled training data\n",
    "rf_classifier.fit(X_train_os, y_train_os)\n",
    "\n",
    "# Predict on the test set\n",
    "y_pred_rf_os = rf_classifier.predict(X_test_os)\n",
    "\n",
    "# Generate and print the classification report\n",
    "print(\"Classification Report for Random Forest (with oversampling):\")\n",
    "print(classification_report(y_test_os, y_pred_rf_os))\n"
   ]
  },
  {
   "cell_type": "markdown",
   "id": "b611d274",
   "metadata": {},
   "source": [
    "As you can see model is performing well accross all the spectrun of metrics"
   ]
  },
  {
   "cell_type": "markdown",
   "id": "6449f352",
   "metadata": {},
   "source": [
    "I am now   planning to conduct cross-validation to assess the model's generalization ability and ensure it is not overfitting. This step allows us to evaluate the model's performance on unseen data, providing a more robust validation of its effectiveness. By performing cross-validation, we aim to validate the model's consistency and reliability across different subsets of the dataset, thereby gaining insights into its performance on unobserved data."
   ]
  },
  {
   "cell_type": "code",
   "execution_count": 56,
   "id": "d4d83541",
   "metadata": {},
   "outputs": [
    {
     "name": "stdout",
     "output_type": "stream",
     "text": [
      "Cross-Validation Scores (F1-score): [0.45226405 0.87772841 0.97430519 0.97613198 0.97012057 0.97252843\n",
      " 0.97408964 0.97352271 0.97251882 0.97392826]\n",
      "Mean F1-score: 0.9117\n"
     ]
    }
   ],
   "source": [
    "from sklearn.model_selection import cross_val_score\n",
    "\n",
    "# Create a Random Forest Classifier\n",
    "rf_classifier = RandomForestClassifier(random_state=42)  # You can adjust hyperparameters here\n",
    "\n",
    "# Perform cross-validation\n",
    "cv_scores = cross_val_score(rf_classifier, X_oversampled, y_oversampled, cv=10, scoring='f1')\n",
    "\n",
    "# Print the cross-validation scores\n",
    "print(\"Cross-Validation Scores (F1-score):\", cv_scores)\n",
    "print(f\"Mean F1-score: {cv_scores.mean():.4f}\")\n"
   ]
  },
  {
   "cell_type": "code",
   "execution_count": 57,
   "id": "d42b9412",
   "metadata": {},
   "outputs": [
    {
     "data": {
      "image/png": "[encoded data removed]",
      "text/plain": [
       "<Figure size 800x600 with 1 Axes>"
      ]
     },
     "metadata": {},
     "output_type": "display_data"
    }
   ],
   "source": [
    "from sklearn.metrics import roc_curve, auc\n",
    "from sklearn.model_selection import train_test_split\n",
    "\n",
    "# Split data into train and test sets\n",
    "#X_train, X_test, y_train, y_test = train_test_split(X_oversampled, y_oversampled, test_size=0.2, random_state=42)\n",
    "\n",
    "# Create a Random Forest Classifier\n",
    "#rf_classifier = RandomForestClassifier(random_state=42)  # You can adjust hyperparameters here\n",
    "\n",
    "# Fit the classifier\n",
    "rf_classifier.fit(X_train_os, y_train_os)\n",
    "\n",
    "# Obtain predicted probabilities\n",
    "y_pred_prob = rf_classifier.predict_proba(X_test_os)[:, 1]\n",
    "\n",
    "# Calculate the false positive rate, true positive rate, and threshold\n",
    "fpr, tpr, thresholds = roc_curve(y_test_os, y_pred_prob)\n",
    "\n",
    "# Calculate the Area Under Curve (AUC) for ROC\n",
    "roc_auc = auc(fpr, tpr)\n",
    "\n",
    "# Plot ROC curve\n",
    "plt.figure(figsize=(8, 6))\n",
    "plt.plot(fpr, tpr, color='blue', lw=2, label='ROC curve (AUC = %0.2f)' % roc_auc)\n",
    "plt.plot([0, 1], [0, 1], color='red', linestyle='--')\n",
    "plt.xlabel('False Positive Rate')\n",
    "plt.ylabel('True Positive Rate')\n",
    "plt.title('ROC Curve - Random Forest Classifier')\n",
    "plt.legend(loc='lower right')\n",
    "plt.show()\n",
    "#This code calculates the ROC curve by obtaining predicted probabilities from the Random Forest Classifier and then uses Matplotlib to plot the curve. The AUC (Area Under Curve) is also calculated and displayed in the plot's legend, providing an indication of the classifier's performance. Adjust the classifier's hyperparameters and the split ratios as needed for your specific analysis.\n",
    "\n",
    "\n",
    "\n",
    "\n",
    "\n",
    "\n"
   ]
  },
  {
   "cell_type": "markdown",
   "id": "11174a92",
   "metadata": {},
   "source": [
    "An ROC AUC (Receiver Operating Characteristic Area Under Curve) of 0.98 indicates that your Random Forest Classifier's performance is quite high. A value close to 1 signifies excellent discrimination between the positive and negative classe"
   ]
  },
  {
   "cell_type": "code",
   "execution_count": 58,
   "id": "9ce551b9",
   "metadata": {},
   "outputs": [
    {
     "data": {
      "image/png": "[encoded data removed]",
      "text/plain": [
       "<Figure size 1000x600 with 1 Axes>"
      ]
     },
     "metadata": {},
     "output_type": "display_data"
    }
   ],
   "source": [
    "# Plotting feature importances\n",
    "feature_importances = rf_classifier.feature_importances_\n",
    "feature_names = X_train_os.columns  # Replace this with your actual feature names\n",
    "\n",
    "# Creating a DataFrame with feature names and their importance scores\n",
    "feature_importance_df = pd.DataFrame({'Feature': feature_names, 'Importance': feature_importances})\n",
    "feature_importance_df = feature_importance_df.sort_values(by='Importance', ascending=False)\n",
    "\n",
    "# Plotting the feature importance graph\n",
    "plt.figure(figsize=(10, 6))\n",
    "plt.barh(feature_importance_df['Feature'], feature_importance_df['Importance'], color='skyblue')\n",
    "plt.xlabel('Importance')\n",
    "plt.title('Feature Importance')\n",
    "plt.gca().invert_yaxis()  # Invert y-axis to display the most important feature at the top\n",
    "plt.show()"
   ]
  },
  {
   "cell_type": "code",
   "execution_count": 59,
   "id": "edbaed01",
   "metadata": {},
   "outputs": [
    {
     "data": {
      "text/html": [
       "<div>\n",
       "<style scoped>\n",
       "    .dataframe tbody tr th:only-of-type {\n",
       "        vertical-align: middle;\n",
       "    }\n",
       "\n",
       "    .dataframe tbody tr th {\n",
       "        vertical-align: top;\n",
       "    }\n",
       "\n",
       "    .dataframe thead th {\n",
       "        text-align: right;\n",
       "    }\n",
       "</style>\n",
       "<table border=\"1\" class=\"dataframe\">\n",
       "  <thead>\n",
       "    <tr style=\"text-align: right;\">\n",
       "      <th></th>\n",
       "      <th>Feature</th>\n",
       "      <th>Importance</th>\n",
       "    </tr>\n",
       "  </thead>\n",
       "  <tbody>\n",
       "    <tr>\n",
       "      <th>5</th>\n",
       "      <td>duration</td>\n",
       "      <td>0.265393</td>\n",
       "    </tr>\n",
       "    <tr>\n",
       "      <th>3</th>\n",
       "      <td>housing</td>\n",
       "      <td>0.087048</td>\n",
       "    </tr>\n",
       "    <tr>\n",
       "      <th>2</th>\n",
       "      <td>balance</td>\n",
       "      <td>0.067127</td>\n",
       "    </tr>\n",
       "    <tr>\n",
       "      <th>0</th>\n",
       "      <td>age</td>\n",
       "      <td>0.055278</td>\n",
       "    </tr>\n",
       "    <tr>\n",
       "      <th>10</th>\n",
       "      <td>marital_married</td>\n",
       "      <td>0.047182</td>\n",
       "    </tr>\n",
       "    <tr>\n",
       "      <th>13</th>\n",
       "      <td>education_secondary</td>\n",
       "      <td>0.039429</td>\n",
       "    </tr>\n",
       "    <tr>\n",
       "      <th>21</th>\n",
       "      <td>job_blue-collar</td>\n",
       "      <td>0.038568</td>\n",
       "    </tr>\n",
       "  </tbody>\n",
       "</table>\n",
       "</div>"
      ],
      "text/plain": [
       "                Feature  Importance\n",
       "5              duration    0.265393\n",
       "3               housing    0.087048\n",
       "2               balance    0.067127\n",
       "0                   age    0.055278\n",
       "10      marital_married    0.047182\n",
       "13  education_secondary    0.039429\n",
       "21      job_blue-collar    0.038568"
      ]
     },
     "execution_count": 59,
     "metadata": {},
     "output_type": "execute_result"
    }
   ],
   "source": [
    "feature_importance_df[:7]"
   ]
  },
  {
   "cell_type": "markdown",
   "id": "d401ea33",
   "metadata": {},
   "source": [
    "**Insights**\n",
    "\n",
    "Top 7 features that are very important in terms of model's classification if an indiusual will subscribe to term deposit or not.\n",
    "\n",
    "1)Duration (0.265): This feature seems to be the most important according to the Random Forest classifier. Higher call durations might have a significant impact on the outcome being predicted.\n",
    "\n",
    "2)Housing (0.087): The fact whether a person has a housing loan or not holds considerable importance in the model's predictions.\n",
    "\n",
    "3)Balance (0.067): The balance amount in an account also contributes significantly to the prediction.\n",
    "\n",
    "4)Age (0.055): Age appears to have a moderate importance level. It might influence the outcome but less than the top three features.\n",
    "\n",
    "5)Marital Status - Married (0.047): The marital status of being married is a notable factor influencing the predictions.\n",
    "\n",
    "6)Education - Secondary (0.039): Having a secondary education level also seems to play a role in the model's decisions.\n",
    "\n",
    "7)Job - Blue-collar (0.038): Occupation as a blue-collar worker is among the influential factors in the model."
   ]
  },
  {
   "cell_type": "markdown",
   "id": "16f23f9d",
   "metadata": {},
   "source": [
    "**We have created a robust model now let's generate a prediction on below testing data**"
   ]
  },
  {
   "cell_type": "code",
   "execution_count": 60,
   "id": "affb0cad",
   "metadata": {},
   "outputs": [
    {
     "data": {
      "text/html": [
       "<div>\n",
       "<style scoped>\n",
       "    .dataframe tbody tr th:only-of-type {\n",
       "        vertical-align: middle;\n",
       "    }\n",
       "\n",
       "    .dataframe tbody tr th {\n",
       "        vertical-align: top;\n",
       "    }\n",
       "\n",
       "    .dataframe thead th {\n",
       "        text-align: right;\n",
       "    }\n",
       "</style>\n",
       "<table border=\"1\" class=\"dataframe\">\n",
       "  <thead>\n",
       "    <tr style=\"text-align: right;\">\n",
       "      <th></th>\n",
       "      <th>age</th>\n",
       "      <th>job</th>\n",
       "      <th>marital</th>\n",
       "      <th>education</th>\n",
       "      <th>default</th>\n",
       "      <th>balance</th>\n",
       "      <th>housing</th>\n",
       "      <th>loan</th>\n",
       "      <th>duration</th>\n",
       "      <th>campaign</th>\n",
       "      <th>pdays</th>\n",
       "      <th>previous</th>\n",
       "      <th>poutcome</th>\n",
       "      <th>subscribed</th>\n",
       "    </tr>\n",
       "  </thead>\n",
       "  <tbody>\n",
       "    <tr>\n",
       "      <th>0</th>\n",
       "      <td>56</td>\n",
       "      <td>admin.</td>\n",
       "      <td>married</td>\n",
       "      <td>unknown</td>\n",
       "      <td>no</td>\n",
       "      <td>1933</td>\n",
       "      <td>no</td>\n",
       "      <td>no</td>\n",
       "      <td>44</td>\n",
       "      <td>2</td>\n",
       "      <td>-1</td>\n",
       "      <td>0</td>\n",
       "      <td>unknown</td>\n",
       "      <td>no</td>\n",
       "    </tr>\n",
       "    <tr>\n",
       "      <th>1</th>\n",
       "      <td>31</td>\n",
       "      <td>unknown</td>\n",
       "      <td>married</td>\n",
       "      <td>secondary</td>\n",
       "      <td>no</td>\n",
       "      <td>3</td>\n",
       "      <td>no</td>\n",
       "      <td>no</td>\n",
       "      <td>91</td>\n",
       "      <td>2</td>\n",
       "      <td>-1</td>\n",
       "      <td>0</td>\n",
       "      <td>unknown</td>\n",
       "      <td>no</td>\n",
       "    </tr>\n",
       "    <tr>\n",
       "      <th>2</th>\n",
       "      <td>27</td>\n",
       "      <td>services</td>\n",
       "      <td>married</td>\n",
       "      <td>secondary</td>\n",
       "      <td>no</td>\n",
       "      <td>891</td>\n",
       "      <td>yes</td>\n",
       "      <td>no</td>\n",
       "      <td>240</td>\n",
       "      <td>1</td>\n",
       "      <td>-1</td>\n",
       "      <td>0</td>\n",
       "      <td>unknown</td>\n",
       "      <td>no</td>\n",
       "    </tr>\n",
       "    <tr>\n",
       "      <th>3</th>\n",
       "      <td>57</td>\n",
       "      <td>management</td>\n",
       "      <td>divorced</td>\n",
       "      <td>tertiary</td>\n",
       "      <td>no</td>\n",
       "      <td>3287</td>\n",
       "      <td>no</td>\n",
       "      <td>no</td>\n",
       "      <td>867</td>\n",
       "      <td>1</td>\n",
       "      <td>84</td>\n",
       "      <td>3</td>\n",
       "      <td>success</td>\n",
       "      <td>yes</td>\n",
       "    </tr>\n",
       "    <tr>\n",
       "      <th>4</th>\n",
       "      <td>31</td>\n",
       "      <td>technician</td>\n",
       "      <td>married</td>\n",
       "      <td>secondary</td>\n",
       "      <td>no</td>\n",
       "      <td>119</td>\n",
       "      <td>yes</td>\n",
       "      <td>no</td>\n",
       "      <td>380</td>\n",
       "      <td>1</td>\n",
       "      <td>-1</td>\n",
       "      <td>0</td>\n",
       "      <td>unknown</td>\n",
       "      <td>no</td>\n",
       "    </tr>\n",
       "  </tbody>\n",
       "</table>\n",
       "</div>"
      ],
      "text/plain": [
       "   age         job   marital  education default  balance housing loan  \\\n",
       "0   56      admin.   married    unknown      no     1933      no   no   \n",
       "1   31     unknown   married  secondary      no        3      no   no   \n",
       "2   27    services   married  secondary      no      891     yes   no   \n",
       "3   57  management  divorced   tertiary      no     3287      no   no   \n",
       "4   31  technician   married  secondary      no      119     yes   no   \n",
       "\n",
       "   duration  campaign  pdays  previous poutcome subscribed  \n",
       "0        44         2     -1         0  unknown         no  \n",
       "1        91         2     -1         0  unknown         no  \n",
       "2       240         1     -1         0  unknown         no  \n",
       "3       867         1     84         3  success        yes  \n",
       "4       380         1     -1         0  unknown         no  "
      ]
     },
     "execution_count": 60,
     "metadata": {},
     "output_type": "execute_result"
    }
   ],
   "source": [
    "import pandas as pd\n",
    "\n",
    "# URL of the dataset\n",
    "url = \"https://raw.githubusercontent.com/dsrscientist/dataset5/main/termdeposit_test.csv\"\n",
    "\n",
    "# Read the dataset\n",
    "df_test = pd.read_csv(url)\n",
    "\n",
    "# Display the first few rows of the dataframe\n",
    "df.head()"
   ]
  },
  {
   "cell_type": "code",
   "execution_count": 61,
   "id": "491e75a1",
   "metadata": {},
   "outputs": [],
   "source": [
    "import pandas as pd\n",
    "from sklearn.preprocessing import LabelEncoder\n",
    "\n",
    "def encode_data(df):\n",
    "    df.drop(['month','ID','contact', 'day'], axis=1, inplace=True)\n",
    "\n",
    "    # One-Hot Encoding for 'marital' and 'education'\n",
    "    encoded_df = pd.get_dummies(df, columns=['marital', 'education', 'poutcome', 'job'])\n",
    "\n",
    "    # Label Encoding for 'default' and 'housing'\n",
    "    label_encoder = LabelEncoder()\n",
    "    encoded_df['default'] = label_encoder.fit_transform(df['default'])\n",
    "    encoded_df['housing'] = label_encoder.fit_transform(df['housing'])\n",
    "    #encoded_df['subscribed'] = label_encoder.fit_transform(df['subscribed'])\n",
    "    encoded_df['loan'] = label_encoder.fit_transform(df['loan'])\n",
    "\n",
    "    # Separate the target variable 'subscribed' into y\n",
    "    #y = encoded_df['subscribed']\n",
    "\n",
    "    # Separate the features (excluding 'subscribed') into X\n",
    "    X = encoded_df\n",
    "\n",
    "    return X\n"
   ]
  },
  {
   "cell_type": "code",
   "execution_count": 62,
   "id": "597bbbaa",
   "metadata": {},
   "outputs": [],
   "source": [
    "X_test= encode_data(df_test)\n"
   ]
  },
  {
   "cell_type": "code",
   "execution_count": 63,
   "id": "9296c951",
   "metadata": {},
   "outputs": [
    {
     "data": {
      "text/plain": [
       "(31647, 32)"
      ]
     },
     "execution_count": 63,
     "metadata": {},
     "output_type": "execute_result"
    }
   ],
   "source": [
    "X.shape"
   ]
  },
  {
   "cell_type": "code",
   "execution_count": 64,
   "id": "ac36a821",
   "metadata": {},
   "outputs": [],
   "source": [
    "y_test_pred = rf_classifier.predict(X_test)\n"
   ]
  },
  {
   "cell_type": "markdown",
   "id": "fc679517",
   "metadata": {},
   "source": [
    "**These are the predictions for test data**"
   ]
  },
  {
   "cell_type": "code",
   "execution_count": 65,
   "id": "e6f8cab8",
   "metadata": {},
   "outputs": [
    {
     "data": {
      "text/plain": [
       "array([0, 1, 0, ..., 0, 1, 0])"
      ]
     },
     "execution_count": 65,
     "metadata": {},
     "output_type": "execute_result"
    }
   ],
   "source": [
    "y_test_pred"
   ]
  },
  {
   "cell_type": "code",
   "execution_count": null,
   "id": "275e1e31",
   "metadata": {},
   "outputs": [],
   "source": []
  }
 ],
 "metadata": {
  "kernelspec": {
   "display_name": "Python 3 (ipykernel)",
   "language": "python",
   "name": "python3"
  },
  "language_info": {
   "codemirror_mode": {
    "name": "ipython",
    "version": 3
   },
   "file_extension": ".py",
   "mimetype": "text/x-python",
   "name": "python",
   "nbconvert_exporter": "python",
   "pygments_lexer": "ipython3",
   "version": "3.11.3"
  }
 },
 "nbformat": 4,
 "nbformat_minor": 5
}
