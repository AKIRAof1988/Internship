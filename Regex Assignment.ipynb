{
 "cells": [
  {
   "cell_type": "markdown",
   "id": "ca04809f",
   "metadata": {},
   "source": [
    "# Question 1- Write a Python program to replace all occurrences of a space, comma, or dot with a colon.\n",
    "\n",
    "Sample Text- 'Python Exercises, PHP exercises.'\n",
    "\n",
    "Expected Output: Python:Exercises::PHP:exercises:\n"
   ]
  },
  {
   "cell_type": "code",
   "execution_count": 113,
   "id": "84ad4392",
   "metadata": {},
   "outputs": [
    {
     "name": "stdout",
     "output_type": "stream",
     "text": [
      "&#39;Python:Exercises::PHP:exercises:&#39;\n"
     ]
    }
   ],
   "source": [
    "sample_text=\"&#39;Python Exercises, PHP exercises.&#39;\"\n",
    "\n",
    "import re\n",
    "pattern = r' |,|\\.'\n",
    "\n",
    "updated_text=re.sub(pattern,\":\",sample_text)\n",
    "print(updated_text)"
   ]
  },
  {
   "cell_type": "markdown",
   "id": "df5d6729",
   "metadata": {},
   "source": [
    "# Question 2-  Write a Python program to find all words starting with 'a' or 'e' in a given string."
   ]
  },
  {
   "cell_type": "code",
   "execution_count": 114,
   "id": "6ce5dcda",
   "metadata": {},
   "outputs": [
    {
     "name": "stdout",
     "output_type": "stream",
     "text": [
      "['eva', 'at', 'evening']\n"
     ]
    }
   ],
   "source": [
    "import re \n",
    "\n",
    "def find_words_begin_with_a_or_e(string):\n",
    "    pattern=r'\\b[ae]\\w*'\n",
    "    matches=re.findall(pattern,string)\n",
    "    return matches\n",
    "    \n",
    "    \n",
    "string =\"eva visited you yesterday at nasik in the evening \"\n",
    "print(find_words_begin_with_a_or_e(string))\n",
    "\n",
    "    "
   ]
  },
  {
   "cell_type": "markdown",
   "id": "c25dc08e",
   "metadata": {},
   "source": [
    "# Question 3- Create a function in python to find all words that are at least 4 characters long in a string. The use of the re.compile() method is mandatory."
   ]
  },
  {
   "cell_type": "code",
   "execution_count": 7,
   "id": "e8aa59f1",
   "metadata": {},
   "outputs": [
    {
     "name": "stdout",
     "output_type": "stream",
     "text": [
      "['wathced', 'oppenhimer', 'Yesterday', 'good', 'movie']\n"
     ]
    }
   ],
   "source": [
    "import re\n",
    "def find_all_words_length_4(string):\n",
    "    \n",
    "    pattern=r'\\b\\w{4,}\\b'\n",
    "    pattern=re.compile(pattern)\n",
    "    \n",
    "    mapped_words=pattern.findall(string)\n",
    "    return mapped_words\n",
    "\n",
    "\n",
    "string=\"I wathced oppenhimer Yesterday it was a good movie\"\n",
    "li=find_all_words_length_4(string)\n",
    "print(li)"
   ]
  },
  {
   "cell_type": "markdown",
   "id": "bc209d49",
   "metadata": {},
   "source": [
    "# Question 4- Create a function in python to find all three, four, and five character words in a string. The use of the re.compile() method is mandatory."
   ]
  },
  {
   "cell_type": "code",
   "execution_count": 12,
   "id": "a51024ea",
   "metadata": {},
   "outputs": [
    {
     "name": "stdout",
     "output_type": "stream",
     "text": [
      "['find', 'all', 'three', 'four', 'and', 'five', 'words', 'The', 'use', 'the']\n"
     ]
    }
   ],
   "source": [
    "import re\n",
    "def find_words_3_4_5(string):\n",
    "    pattern=r\"\\b\\w{3}\\b|\\b\\w{4}\\b|\\b\\w{5}\\b\"\n",
    "    pattern=re.compile(pattern)\n",
    "    mapped_words=pattern.findall(string)\n",
    "    return mapped_words\n",
    "\n",
    "strings=\"Question 4- Create a function in python to find all three, four, and five character words in a string. The use of the re.compile() method is mandatory.\"\n",
    "li=find_words_3_4_5(strings)\n",
    "print(li)"
   ]
  },
  {
   "cell_type": "markdown",
   "id": "a967c0af",
   "metadata": {},
   "source": [
    "# Question 5- Create a function in Python to remove the parenthesis in a list of strings. The use of the re.compile() method is mandatory."
   ]
  },
  {
   "cell_type": "code",
   "execution_count": 34,
   "id": "b7a209eb",
   "metadata": {},
   "outputs": [
    {
     "name": "stdout",
     "output_type": "stream",
     "text": [
      "abfad  a+b  ohio sfssff \n"
     ]
    }
   ],
   "source": [
    "import re\n",
    "def remove_parenthesis(string):\n",
    "    pattern=r'\\b[^()]*'\n",
    "    pattern_compiler=re.compile(pattern) #creating a compiler for this pattern\n",
    "    \n",
    "    without_parenthesis_list=pattern_compiler.findall(string)\n",
    "    \n",
    "    #returns a list of strings without parentheis this also includes empty strings \n",
    "    \n",
    "    without_parenthesis_string=' '.join(without_parenthesis_list)\n",
    "    \n",
    "    # to remove empty strings and join all the strings to one string i have used ''.join method in python\n",
    "    \n",
    "    return without_parenthesis_string\n",
    "    \n",
    "    \n",
    "\n",
    "string=\"abfad (a+b) (ohio sfssff)\"\n",
    "string=remove_parenthesis(string)\n",
    "print(string)"
   ]
  },
  {
   "cell_type": "markdown",
   "id": "b9de4aef",
   "metadata": {},
   "source": [
    "# Question 6- Write a python program to remove the parenthesis area from the text stored in the text file using Regular Expression.\n",
    "\n",
    "Sample Text: [\"example (.com)\", \"hr@fliprobo (.com)\", \"github (.com)\", \"Hello (Data Science World)\", \"Data (Scientist)\"]\n",
    "Expected Output: [\"example\", \"hr@fliprobo\", \"github\", \"Hello\", \"Data\"]\n",
    "\n",
    "Note- Store given sample text in the text file and then to remove the parenthesis area from the text.\n"
   ]
  },
  {
   "cell_type": "code",
   "execution_count": 2,
   "id": "da1f3387",
   "metadata": {},
   "outputs": [
    {
     "name": "stdout",
     "output_type": "stream",
     "text": [
      "Sample Text: [\"example \"] Expected Output: [\"example\", \"hr@fliprobo\", \"github\", \"Hello\", \"Data\"]\n"
     ]
    }
   ],
   "source": [
    "import re\n",
    "\n",
    "def remove_parenthesis(string):\n",
    "    pattern = r'\\(.*\\)'\n",
    "    pattern_compiler = re.compile(pattern)  # creating a compiler for this pattern\n",
    "    without_parenthesis_string = pattern_compiler.sub(\"\", string)\n",
    "    # If you want to return a list of strings without parenthesis, uncomment the next line\n",
    "   \n",
    "    return without_parenthesis_string\n",
    "\n",
    "# Please edit the file path\n",
    "file_path = r'C:\\Users\\Ganvir\\Documents\\input_file.txt'\n",
    "\n",
    "with open(file_path, \"r\") as file:\n",
    "    lines = file.readlines()\n",
    "\n",
    "# Join lines into a single string and remove newline characters\n",
    "string = \"\".join(lines).strip()\n",
    "\n",
    "without_parenthesis_string = remove_parenthesis(string)\n",
    "\n",
    "print(without_parenthesis_string)\n"
   ]
  },
  {
   "cell_type": "markdown",
   "id": "466775da",
   "metadata": {},
   "source": [
    "# Question 7- Write a regular expression in Python to split a string into uppercase letters.\n",
    "Sample text: “ImportanceOfRegularExpressionsInPython”\n",
    "Expected Output: [‘Importance’, ‘Of’, ‘Regular’, ‘Expression’, ‘In’, ‘Python’]\n",
    "\n"
   ]
  },
  {
   "cell_type": "code",
   "execution_count": 57,
   "id": "1d1e68bc",
   "metadata": {},
   "outputs": [
    {
     "name": "stdout",
     "output_type": "stream",
     "text": [
      "['Importance', 'Of', 'Regular', 'Expressions', 'In', 'Python']\n"
     ]
    }
   ],
   "source": [
    "import re\n",
    "Sample_text=\"ImportanceOfRegularExpressionsInPython\"\n",
    "def split_String(text):\n",
    "    \n",
    "    pattern=r'[A-Z][a-z]*'\n",
    "    pattern_compiler=re.compile(pattern)\n",
    "    return pattern_compiler.findall(text)\n",
    "\n",
    "converted_text=split_String(Sample_text)\n",
    "print(converted_text)"
   ]
  },
  {
   "cell_type": "markdown",
   "id": "b6307163",
   "metadata": {},
   "source": [
    "# Question 8- Create a function in python to insert spaces between words starting with numbers.\n",
    "\n",
    "Sample Text: “RegularExpression1IsAn2ImportantTopic3InPython\"\n",
    "\n",
    "Expected Output: RegularExpression 1IsAn 2ImportantTopic 3InPython\n"
   ]
  },
  {
   "cell_type": "code",
   "execution_count": 17,
   "id": "1bab052d",
   "metadata": {},
   "outputs": [
    {
     "name": "stdout",
     "output_type": "stream",
     "text": [
      "RegularExpression1  IsAn2  ImportantTopic3  InPython\n"
     ]
    }
   ],
   "source": [
    "import re\n",
    "def add_space(string):\n",
    "    pattern=\"(\\d+)([a-zA-Z]+)\"\n",
    "    pattern_compiler=re.compile(pattern)\n",
    "    matched_pattern=pattern_compiler.sub(r'\\1  \\2',string)\n",
    "    #matched_pattern=pattern_compiler.findall(string)\n",
    "    return matched_pattern\n",
    "\n",
    "\n",
    "string=\"RegularExpression1IsAn2ImportantTopic3InPython\"\n",
    "converted_text=add_space(string)\n",
    "print(converted_text)\n",
    "\n",
    "    \n"
   ]
  },
  {
   "cell_type": "markdown",
   "id": "0bbdc6d7",
   "metadata": {},
   "source": [
    "# Question 9- Create a function in python to insert spaces between words starting with capital letters or with numbers.\n",
    "\n",
    "Sample Text: “RegularExpression1IsAn2ImportantTopic3InPython\"\n",
    "\n",
    "Expected Output:  RegularExpression 1 IsAn 2 ImportantTopic 3 InPython\n"
   ]
  },
  {
   "cell_type": "code",
   "execution_count": 21,
   "id": "cbc4b1d1",
   "metadata": {},
   "outputs": [
    {
     "name": "stdout",
     "output_type": "stream",
     "text": [
      "RegularExpression 1 IsAn  2 ImportantTopic  3 InPython \n"
     ]
    }
   ],
   "source": [
    "import re\n",
    "def add_space(string):\n",
    "    pattern=\"(\\d+)([a-zA-Z]+)\"\n",
    "    pattern_compiler=re.compile(pattern)\n",
    "    matched_pattern=pattern_compiler.sub(r' \\1 \\2 ',string)\n",
    "    #matched_pattern=pattern_compiler.findall(string)\n",
    "    return matched_pattern\n",
    "\n",
    "\n",
    "string=\"RegularExpression1IsAn2ImportantTopic3InPython\"\n",
    "converted_text=add_space(string)\n",
    "print(converted_text)"
   ]
  },
  {
   "cell_type": "markdown",
   "id": "69dba392",
   "metadata": {},
   "source": [
    "# Question 10- Write a python program to extract email address from the text stored in the text file using Regular Expression.\n",
    "\n",
    "Sample Text- Hello my name is Data Science and my email address is xyz@domain.com and alternate email address is xyz.abc@sdomain.domain.com. \n"
   ]
  },
  {
   "cell_type": "code",
   "execution_count": 27,
   "id": "7119c2f5",
   "metadata": {},
   "outputs": [
    {
     "name": "stdout",
     "output_type": "stream",
     "text": [
      "['xyz@domain.com', 'abc@sdomain.domain']\n"
     ]
    }
   ],
   "source": [
    "import re\n",
    "def return_emailid(string):\n",
    "    \n",
    "    pattern=\"[a-zA-z]+@[a-zA-z]+\\.[a-zA-Z]+\"\n",
    "    pattern_compiler=re.compile(pattern)\n",
    "    matched_text=pattern_compiler.findall(string)\n",
    "    return matched_text\n",
    "\n",
    "#edit the path where your text file is located \n",
    "\n",
    "file_path=r'C:\\Users\\Ganvir\\Downloads\\input_text.txt'\n",
    "with open(file_path,\"r\") as file:\n",
    "    text=file.readlines()\n",
    "    \n",
    "    for line in text:\n",
    "        print(return_emailid(line))"
   ]
  },
  {
   "cell_type": "markdown",
   "id": "322ce963",
   "metadata": {},
   "source": [
    "# Question 11- Write a Python program to match a string that contains only upper and lowercase letters, numbers, and underscores."
   ]
  },
  {
   "cell_type": "code",
   "execution_count": 47,
   "id": "ba98ca15",
   "metadata": {},
   "outputs": [
    {
     "name": "stdout",
     "output_type": "stream",
     "text": [
      "Enter a string:fsdfs\n",
      "\"fsdfs : is  valid\"\n"
     ]
    }
   ],
   "source": [
    "import re\n",
    "\n",
    "def match_string(string):\n",
    "    pattern = r\"[a-zA-Z0-9_]+$\"\n",
    "    pattern_compiler = re.compile(pattern)\n",
    "    matched_pattern = pattern_compiler.match(string)\n",
    "    return matched_pattern\n",
    "\n",
    "input_string=input(\"Enter a string:\")\n",
    "matched=match_string(input_string)\n",
    "if matched:\n",
    "    print(f'\"{input_string} : is  valid\"')\n",
    "          \n",
    "else:\n",
    "    print(f'\"{input_string}: is not valid\"')\n",
    "          \n",
    "          \n"
   ]
  },
  {
   "cell_type": "markdown",
   "id": "449b89d5",
   "metadata": {},
   "source": [
    "# Question 12- Write a Python program where a string will start with a specific number"
   ]
  },
  {
   "cell_type": "code",
   "execution_count": 64,
   "id": "dbf5c09d",
   "metadata": {},
   "outputs": [
    {
     "name": "stdout",
     "output_type": "stream",
     "text": [
      "Enter a string: 3dgdgdg 4fdfdf 6dfdfd 6dfdff\n",
      "Enter a specific Number: 6\n",
      "Occurrences of the specific number in the string: ['6dfdfd', '6dfdff']\n"
     ]
    }
   ],
   "source": [
    "import re\n",
    "\n",
    "def string_with_specific_number(string, number):\n",
    "    pattern =r'\\b' + str(number) + r'\\w+\\b'\n",
    "    pattern_compiler = re.compile(pattern)\n",
    "    string_with_specific_number = pattern_compiler.findall(string)\n",
    "    return string_with_specific_number\n",
    "\n",
    "string = input(\"Enter a string: \")\n",
    "specific_number = input(\"Enter a specific Number: \")\n",
    "\n",
    "result = string_with_specific_number(string, specific_number)\n",
    "print(\"Occurrences of the specific number in the string:\", result)\n"
   ]
  },
  {
   "cell_type": "markdown",
   "id": "fb22c01f",
   "metadata": {},
   "source": [
    "# Question 13- Write a Python program to remove leading zeros from an IP address"
   ]
  },
  {
   "cell_type": "code",
   "execution_count": 65,
   "id": "dec3e8fe",
   "metadata": {},
   "outputs": [
    {
     "name": "stdout",
     "output_type": "stream",
     "text": [
      "Original IP: 192.168.001.001\n",
      "Cleaned IP: 192.168.1.1\n"
     ]
    }
   ],
   "source": [
    "import re\n",
    "\n",
    "def remove_leading_zeros(ip_address):\n",
    "    cleaned_ip = re.sub(r'\\b0+(\\d)', r'\\1', ip_address)\n",
    "    return cleaned_ip\n",
    "\n",
    "# Example usage\n",
    "ip_address = \"192.168.001.001\"\n",
    "cleaned_ip = remove_leading_zeros(ip_address)\n",
    "print(\"Original IP:\", ip_address)\n",
    "print(\"Cleaned IP:\", cleaned_ip)\n"
   ]
  },
  {
   "cell_type": "markdown",
   "id": "1c088079",
   "metadata": {},
   "source": [
    "# Question 14- Write a regular expression in python to match a date string in the form of Month name followed by day number and year stored in a text file.\n",
    "\n",
    "Sample text :  ' On August 15th 1947 that India was declared independent from British colonialism, and the reins of control were handed over to the leaders of the Country’.\n",
    "\n",
    "Expected Output- August 15th 1947\n",
    "\n",
    "Note- Store given sample text in the text file and then extract the date string asked format.\n",
    "\n"
   ]
  },
  {
   "cell_type": "code",
   "execution_count": 70,
   "id": "cb6ba657",
   "metadata": {},
   "outputs": [
    {
     "name": "stdout",
     "output_type": "stream",
     "text": [
      "August 15th 1947\n"
     ]
    }
   ],
   "source": [
    "import re\n",
    "\n",
    "# Read the text from the file\n",
    "with open(r'C:\\Users\\Ganvir\\Downloads\\sample_text.txt', 'r') as file:\n",
    "    text = file.read()\n",
    "\n",
    "# Define a regular expression pattern\n",
    "pattern = r'\\b(?:January|February|March|April|May|June|July|August|September|October|November|December)\\s+\\d{1,2}(?:st|nd|rd|th)?\\s+\\d{4}\\b'\n",
    "\n",
    "# Find matches using the regular expression\n",
    "matches = re.findall(pattern, text)\n",
    "\n",
    "# Print the matched date strings\n",
    "for match in matches:\n",
    "    print(match)\n",
    "\n"
   ]
  },
  {
   "cell_type": "markdown",
   "id": "7707c737",
   "metadata": {},
   "source": [
    "# Question 15- Write a Python program to search some literals strings in a string. \n",
    "\n",
    "Sample text : 'The quick brown fox jumps over the lazy dog.'\n",
    "\n",
    "Searched words : 'fox', 'dog', 'horse'\n"
   ]
  },
  {
   "cell_type": "code",
   "execution_count": 71,
   "id": "21585694",
   "metadata": {},
   "outputs": [
    {
     "name": "stdout",
     "output_type": "stream",
     "text": [
      "'fox' found in the text.\n",
      "'dog' found in the text.\n",
      "'horse' not found in the text.\n"
     ]
    }
   ],
   "source": [
    "import re\n",
    "\n",
    "def search_words_in_text(text, searched_words):\n",
    "    for word in searched_words:\n",
    "        pattern = re.compile(r'\\b' + re.escape(word) + r'\\b', re.IGNORECASE)\n",
    "        if re.search(pattern, text):\n",
    "            print(f\"'{word}' found in the text.\")\n",
    "        else:\n",
    "            print(f\"'{word}' not found in the text.\")\n",
    "\n",
    "sample_text = 'The quick brown fox jumps over the lazy dog.'\n",
    "searched_words = ['fox', 'dog', 'horse']\n",
    "\n",
    "search_words_in_text(sample_text, searched_words)\n"
   ]
  },
  {
   "cell_type": "markdown",
   "id": "c5dd1843",
   "metadata": {},
   "source": [
    "# Question 16- Write a Python program to search a literals string in a string and also find the location within the original string where the pattern occurs.\n",
    "\n",
    "Sample text : 'The quick brown fox jumps over the lazy dog.'\n",
    "\n",
    "Searched words : 'fox'\n"
   ]
  },
  {
   "cell_type": "code",
   "execution_count": 73,
   "id": "e81e1b99",
   "metadata": {},
   "outputs": [
    {
     "name": "stdout",
     "output_type": "stream",
     "text": [
      "Pattern 'fox' found at indices: 16 - 18\n"
     ]
    }
   ],
   "source": [
    "import re\n",
    "\n",
    "def search_and_locate_regex(pattern, text):\n",
    "    matches = re.finditer(pattern, text)\n",
    "    for match in matches:\n",
    "        start_index = match.start()\n",
    "        end_index = match.end()\n",
    "        print(f\"Pattern '{pattern}' found at indices: {start_index} - {end_index-1}\")\n",
    "\n",
    "sample_text = 'The quick brown fox jumps over the lazy dog.'\n",
    "searched_word = 'fox'\n",
    "\n",
    "search_and_locate_regex(searched_word, sample_text)\n"
   ]
  },
  {
   "cell_type": "markdown",
   "id": "1c9fa158",
   "metadata": {},
   "source": [
    "# Question 17- Write a Python program to find the substrings within a string.\n",
    "\n",
    "Sample text : 'Python exercises, PHP exercises, C# exercises'\n",
    "\n",
    "Pattern : 'exercises'.\n"
   ]
  },
  {
   "cell_type": "code",
   "execution_count": 74,
   "id": "bb595ec8",
   "metadata": {},
   "outputs": [
    {
     "name": "stdout",
     "output_type": "stream",
     "text": [
      "Substrings found:\n",
      "exercises\n",
      "exercises\n",
      "exercises\n"
     ]
    }
   ],
   "source": [
    "import re\n",
    "\n",
    "def find_substrings(text, pattern):\n",
    "    matches = re.finditer(pattern, text)\n",
    "    substrings = [match.group() for match in matches]\n",
    "    return substrings\n",
    "\n",
    "sample_text = 'Python exercises, PHP exercises, C# exercises'\n",
    "search_pattern = 'exercises'\n",
    "\n",
    "substrings = find_substrings(sample_text, search_pattern)\n",
    "\n",
    "print(\"Substrings found:\")\n",
    "for substring in substrings:\n",
    "    print(substring)\n"
   ]
  },
  {
   "cell_type": "markdown",
   "id": "59f2a5ed",
   "metadata": {},
   "source": [
    "# Question 18- Write a Python program to find the occurrence and position of the substrings within a string."
   ]
  },
  {
   "cell_type": "code",
   "execution_count": 75,
   "id": "a8c2d7ce",
   "metadata": {},
   "outputs": [
    {
     "name": "stdout",
     "output_type": "stream",
     "text": [
      "Occurrences and positions of substrings:\n",
      "Occurrence 1: Start: 7, End: 16\n",
      "Occurrence 2: Start: 22, End: 31\n",
      "Occurrence 3: Start: 36, End: 45\n"
     ]
    }
   ],
   "source": [
    "import re\n",
    "\n",
    "def find_substring_occurrences_regex(text, pattern):\n",
    "    occurrences = []\n",
    "    for match in re.finditer(pattern, text):\n",
    "        start = match.start()\n",
    "        end = match.end()\n",
    "        occurrences.append((start, end))\n",
    "    return occurrences\n",
    "\n",
    "sample_text = 'Python exercises, PHP exercises, C# exercises'\n",
    "search_pattern = 'exercises'\n",
    "\n",
    "occurrences = find_substring_occurrences_regex(sample_text, search_pattern)\n",
    "\n",
    "print(\"Occurrences and positions of substrings:\")\n",
    "for idx, (start, end) in enumerate(occurrences, start=1):\n",
    "    print(f\"Occurrence {idx}: Start: {start}, End: {end}\")\n"
   ]
  },
  {
   "cell_type": "markdown",
   "id": "b37e79f2",
   "metadata": {},
   "source": [
    "# Question 19- Write a Python program to convert a date of yyyy-mm-dd format to dd-mm-yyyy format."
   ]
  },
  {
   "cell_type": "code",
   "execution_count": 76,
   "id": "813f2821",
   "metadata": {},
   "outputs": [
    {
     "name": "stdout",
     "output_type": "stream",
     "text": [
      "Original Date: 2023-08-08\n",
      "Converted Date: 08-08-2023\n"
     ]
    }
   ],
   "source": [
    "def convert_date_format(input_date):\n",
    "    # Split the input date using hyphens\n",
    "    year, month, day = input_date.split('-')\n",
    "    \n",
    "    # Construct the new date format\n",
    "    new_date = f\"{day}-{month}-{year}\"\n",
    "    \n",
    "    return new_date\n",
    "\n",
    "# Input date in yyyy-mm-dd format\n",
    "input_date = '2023-08-08'\n",
    "\n",
    "# Convert the date format\n",
    "converted_date = convert_date_format(input_date)\n",
    "\n",
    "print(\"Original Date:\", input_date)\n",
    "print(\"Converted Date:\", converted_date)\n"
   ]
  },
  {
   "cell_type": "markdown",
   "id": "bc594668",
   "metadata": {},
   "source": [
    "# Question 20- Create a function in python to find all decimal numbers with a precision of 1 or 2 in a string. The use of the re.compile() method is mandatory.\n"
   ]
  },
  {
   "cell_type": "code",
   "execution_count": 77,
   "id": "f46a5edc",
   "metadata": {},
   "outputs": [
    {
     "name": "stdout",
     "output_type": "stream",
     "text": [
      "Decimal numbers with precision of 1 or 2:\n",
      "1.23\n",
      "45.6\n",
      "0.5\n"
     ]
    }
   ],
   "source": [
    "import re\n",
    "\n",
    "def find_decimal_numbers(text):\n",
    "    pattern = re.compile(r'\\b\\d+\\.\\d{1,2}\\b')\n",
    "    decimal_numbers = pattern.findall(text)\n",
    "    return decimal_numbers\n",
    "\n",
    "sample_text = 'These are some numbers: 1.23, 45.6, 7.891, 0.5, 123.45678'\n",
    "decimal_numbers = find_decimal_numbers(sample_text)\n",
    "\n",
    "print(\"Decimal numbers with precision of 1 or 2:\")\n",
    "for num in decimal_numbers:\n",
    "    print(num)\n"
   ]
  },
  {
   "cell_type": "markdown",
   "id": "4c94e8f0",
   "metadata": {},
   "source": [
    "# Question 21- Write a Python program to separate and print the numbers and their position of a given string."
   ]
  },
  {
   "cell_type": "code",
   "execution_count": 78,
   "id": "cb811cbe",
   "metadata": {},
   "outputs": [
    {
     "name": "stdout",
     "output_type": "stream",
     "text": [
      "Numbers and their positions:\n",
      "Number: 3, Position: 10\n",
      "Number: 2, Position: 23\n",
      "Number: 10, Position: 38\n"
     ]
    }
   ],
   "source": [
    "import re\n",
    "\n",
    "def separate_numbers_regex(text):\n",
    "    numbers = []\n",
    "    for match in re.finditer(r'\\b\\d+(\\.\\d+)?\\b', text):\n",
    "        number = match.group()\n",
    "        position = match.start()\n",
    "        numbers.append((number, position))\n",
    "    return numbers\n",
    "\n",
    "sample_text = 'There are 3 apples and 2 oranges, but 10 bananas.'\n",
    "number_positions = separate_numbers_regex(sample_text)\n",
    "\n",
    "print(\"Numbers and their positions:\")\n",
    "for number, position in number_positions:\n",
    "    print(f\"Number: {number}, Position: {position}\")\n"
   ]
  },
  {
   "cell_type": "markdown",
   "id": "7a8749d7",
   "metadata": {},
   "source": [
    "# Question 22- Write a regular expression in python program to extract maximum/largest numeric value from a string.\n",
    "\n",
    "Sample Text:  'My marks in each semester are: 947, 896, 926, 524, 734, 950, 642'\n",
    "\n",
    "Expected Output: 950\n"
   ]
  },
  {
   "cell_type": "code",
   "execution_count": 79,
   "id": "85f31b84",
   "metadata": {},
   "outputs": [
    {
     "name": "stdout",
     "output_type": "stream",
     "text": [
      "Maximum Numeric Value: 950\n"
     ]
    }
   ],
   "source": [
    "import re\n",
    "\n",
    "def extract_maximum_numeric_value(text):\n",
    "    numbers = re.findall(r'\\b\\d+\\b', text)\n",
    "    if numbers:\n",
    "        max_number = max(map(int, numbers))\n",
    "        return max_number\n",
    "    else:\n",
    "        return None\n",
    "\n",
    "sample_text = 'My marks in each semester are: 947, 896, 926, 524, 734, 950, 642'\n",
    "max_numeric_value = extract_maximum_numeric_value(sample_text)\n",
    "\n",
    "if max_numeric_value is not None:\n",
    "    print(\"Maximum Numeric Value:\", max_numeric_value)\n",
    "else:\n",
    "    print(\"No numeric values found.\")\n"
   ]
  },
  {
   "cell_type": "markdown",
   "id": "d5d1cdc7",
   "metadata": {},
   "source": [
    "# Question 23- Create a function in python to insert spaces between words starting with capital letters.\n",
    "\n",
    "Sample Text: “RegularExpressionIsAnImportantTopicInPython\"\n",
    "\n",
    "Expected Output: Regular Expression Is An Important Topic In Python\n"
   ]
  },
  {
   "cell_type": "code",
   "execution_count": 81,
   "id": "bfd42dbd",
   "metadata": {},
   "outputs": [
    {
     "name": "stdout",
     "output_type": "stream",
     "text": [
      "Formatted Text: Regular Expression Is An Important Topic In Python\n"
     ]
    }
   ],
   "source": [
    "import re\n",
    "\n",
    "def insert_spaces(text):\n",
    "    spaced_text = re.sub(r'([a-z])([A-Z])', r'\\1 \\2', text)\n",
    "    return spaced_text\n",
    "\n",
    "sample_text = \"RegularExpressionIsAnImportantTopicInPython\"\n",
    "formatted_text = insert_spaces(sample_text)\n",
    "\n",
    "print(\"Formatted Text:\", formatted_text)\n"
   ]
  },
  {
   "cell_type": "markdown",
   "id": "70b849eb",
   "metadata": {},
   "source": [
    "# Question 24- Python regex to find sequences of one upper case letter followed by lower case letters\n"
   ]
  },
  {
   "cell_type": "code",
   "execution_count": 83,
   "id": "e2667973",
   "metadata": {},
   "outputs": [
    {
     "name": "stdout",
     "output_type": "stream",
     "text": [
      "Sequences of one uppercase letter followed by lowercase letters:\n",
      "['Hello', 'My', 'Name', 'Is', 'Naruto', 'Uzumaki']\n"
     ]
    }
   ],
   "source": [
    "import re\n",
    "\n",
    "pattern = r'[A-Z][a-z]+'\n",
    "\n",
    "text = \"Hello My Name Is Naruto Uzumaki\"\n",
    "sequences = re.findall(pattern, text)\n",
    "\n",
    "print(\"Sequences of one uppercase letter followed by lowercase letters:\")\n",
    "print(sequences)\n"
   ]
  },
  {
   "cell_type": "markdown",
   "id": "2778803b",
   "metadata": {},
   "source": [
    "# Question 25- Write a Python program to remove continuous duplicate words from Sentence using Regular Expression.\n",
    "\n",
    "Sample Text: \"Hello hello world world\"\n",
    "\n",
    "Expected Output: Hello hello world\n"
   ]
  },
  {
   "cell_type": "code",
   "execution_count": null,
   "id": "a6072e72",
   "metadata": {},
   "outputs": [],
   "source": [
    " import re\n",
    "\n",
    "def remove_continuous_duplicates(text):\n",
    "    cleaned_text = re.sub(r'\\b(\\w+)\\s+\\1\\b', r'\\1', text, flags=re.IGNORECASE)\n",
    "    return cleaned_text\n",
    "\n",
    "sample_text = \"Hello hello world world\"\n",
    "cleaned_text = remove_continuous_duplicates(sample_text)\n",
    "\n",
    "print(\"Cleaned Text:\", cleaned_text)\n"
   ]
  },
  {
   "cell_type": "markdown",
   "id": "3e8a327d",
   "metadata": {},
   "source": [
    "# Question 26-  Write a python program using RegEx to accept string ending with alphanumeric character."
   ]
  },
  {
   "cell_type": "code",
   "execution_count": 104,
   "id": "426efe47",
   "metadata": {},
   "outputs": [
    {
     "name": "stdout",
     "output_type": "stream",
     "text": [
      "Enter a string: adsdsd\n",
      "String is alphanumeric\n"
     ]
    }
   ],
   "source": [
    "import re\n",
    "\n",
    "def check_string_ending_with_letter(input_string):\n",
    "    pattern = r'^.*[a-zA-Z]$'\n",
    "\n",
    "    if re.match(pattern, input_string):\n",
    "        return True\n",
    "    else:\n",
    "        return False\n",
    "\n",
    "user_input = input(\"Enter a string: \")\n",
    "\n",
    "if check_string_ending_with_letter(user_input):\n",
    "    print(\"String is alphanumeric\")\n",
    "else:\n",
    "    print(\"String is not alphanumeric\")\n"
   ]
  },
  {
   "cell_type": "markdown",
   "id": "edd7e581",
   "metadata": {},
   "source": [
    "# Question 27-Write a python program using RegEx to extract the hashtags.\n",
    "\n",
    "Sample Text:  \"\"\"RT @kapil_kausik: #Doltiwal I mean #xyzabc is \"hurt\" by #Demonetization as the same has rendered USELESS <ed><U+00A0><U+00BD><ed><U+00B1><U+0089> \"acquired funds\" No wo\"\"\"\n",
    "    \n",
    "Expected Output: ['#Doltiwal', '#xyzabc', '#Demonetization']\n"
   ]
  },
  {
   "cell_type": "code",
   "execution_count": 105,
   "id": "4192b426",
   "metadata": {},
   "outputs": [
    {
     "name": "stdout",
     "output_type": "stream",
     "text": [
      "['#Doltiwal', '#xyzabc', '#Demonetization']\n"
     ]
    }
   ],
   "source": [
    "import re\n",
    "\n",
    "sample_text = \"\"\"RT @kapil_kausik: #Doltiwal I mean #xyzabc is \"hurt\" by #Demonetization as the same has rendered USELESS <ed><U+00A0><U+00BD><ed><U+00B1><U+0089> \"acquired funds\" No wo\"\"\"\n",
    "\n",
    "hashtags = re.findall(r'#\\w+', sample_text)\n",
    "\n",
    "print(hashtags)\n"
   ]
  },
  {
   "cell_type": "markdown",
   "id": "2bf86c53",
   "metadata": {},
   "source": [
    "# Question 28- Write a python program using RegEx to remove <U+..> like symbols\n",
    "\n",
    "Check the below sample text, there are strange symbols something of the sort <U+..> all over the place. You need to come up with a general Regex expression that will cover all such symbols.\n",
    "\n",
    "Sample Text: \"@Jags123456 Bharat band on 28??<ed><U+00A0><U+00BD><ed><U+00B8><U+0082>Those who  are protesting #demonetization  are all different party leaders\"\n",
    "    \n",
    "Expected Output: @Jags123456 Bharat band on 28??<ed><ed>Those who  are protesting #demonetization  are all different party leaders\n"
   ]
  },
  {
   "cell_type": "code",
   "execution_count": 107,
   "id": "7e0318cd",
   "metadata": {},
   "outputs": [
    {
     "name": "stdout",
     "output_type": "stream",
     "text": [
      "@Jags123456 Bharat band on 28??Those who are protesting #demonetization are all different party leaders\n"
     ]
    }
   ],
   "source": [
    "import re\n",
    "\n",
    "sample_text = \"@Jags123456 Bharat band on 28??<U+00A0><U+00BD><U+00B8><U+0082>Those who are protesting #demonetization are all different party leaders\"\n",
    "\n",
    "cleaned_text = re.sub(r'<U\\+[A-F0-9]{4}>', '', sample_text)\n",
    "\n",
    "print(cleaned_text)\n"
   ]
  },
  {
   "cell_type": "markdown",
   "id": "2f621492",
   "metadata": {},
   "source": [
    "# Question 29- Write a python program to extract dates from the text stored in the text file.\n",
    "\n",
    "Sample Text: Ron was born on 12-09-1992 and he was admitted to school 15-12-1999.\n",
    "    \n",
    "Note- Store this sample text in the file and then extract dates\n"
   ]
  },
  {
   "cell_type": "code",
   "execution_count": 108,
   "id": "b750e5cb",
   "metadata": {},
   "outputs": [
    {
     "name": "stdout",
     "output_type": "stream",
     "text": [
      "12-09-1992\n",
      "15-12-1999\n"
     ]
    }
   ],
   "source": [
    "import re\n",
    "#edit file path accordingly \n",
    "\n",
    "file_path=r\"C:\\Users\\Ganvir\\Downloads\\date_file.txt\"\n",
    "\n",
    "with open(file_path, \"r\") as file:\n",
    "    sample_text = file.read()\n",
    "\n",
    "# Define a regular expression pattern for dates in the format DD-MM-YYYY\n",
    "date_pattern = r'\\b\\d{2}-\\d{2}-\\d{4}\\b'\n",
    "\n",
    "# Extract dates using the re.findall() function\n",
    "dates = re.findall(date_pattern, sample_text)\n",
    "\n",
    "# Print the extracted dates\n",
    "for date in dates:\n",
    "    print(date)\n"
   ]
  },
  {
   "cell_type": "markdown",
   "id": "32b59381",
   "metadata": {},
   "source": [
    "# Question 30- Create a function in python to remove all words from a string of length between 2 and 4.\n",
    "\n",
    "The use of the re.compile() method is mandatory.\n",
    "\n",
    "Sample Text: \"The following example creates an ArrayList with a capacity of 50 elements. 4 elements are then added to the ArrayList and the ArrayList is trimmed accordingly.\"\n"
   ]
  },
  {
   "cell_type": "code",
   "execution_count": 109,
   "id": "af288a44",
   "metadata": {},
   "outputs": [
    {
     "name": "stdout",
     "output_type": "stream",
     "text": [
      " following example creates  ArrayList  a capacity   elements. 4 elements   added   ArrayList   ArrayList  trimmed accordingly.\n"
     ]
    }
   ],
   "source": [
    "import re\n",
    "\n",
    "def remove_words_of_length_between_2_and_4(text):\n",
    "    # Define a regular expression pattern to match words of length 2 to 4\n",
    "    word_pattern = re.compile(r'\\b\\w{2,4}\\b')\n",
    "    \n",
    "    # Replace matched words with an empty string\n",
    "    cleaned_text = word_pattern.sub('', text)\n",
    "    \n",
    "    return cleaned_text\n",
    "\n",
    "sample_text = \"The following example creates an ArrayList with a capacity of 50 elements. 4 elements are then added to the ArrayList and the ArrayList is trimmed accordingly.\"\n",
    "cleaned_text = remove_words_of_length_between_2_and_4(sample_text)\n",
    "\n",
    "print(cleaned_text)\n"
   ]
  },
  {
   "cell_type": "code",
   "execution_count": null,
   "id": "89d56331",
   "metadata": {},
   "outputs": [],
   "source": []
  }
 ],
 "metadata": {
  "kernelspec": {
   "display_name": "Python 3 (ipykernel)",
   "language": "python",
   "name": "python3"
  },
  "language_info": {
   "codemirror_mode": {
    "name": "ipython",
    "version": 3
   },
   "file_extension": ".py",
   "mimetype": "text/x-python",
   "name": "python",
   "nbconvert_exporter": "python",
   "pygments_lexer": "ipython3",
   "version": "3.9.13"
  }
 },
 "nbformat": 4,
 "nbformat_minor": 5
}
