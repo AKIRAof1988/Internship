{
 "cells": [
  {
   "cell_type": "markdown",
   "id": "26ae5622",
   "metadata": {},
   "source": [
    "# 11.\tWrite a python program to find the factorial of a number. \n",
    "\n"
   ]
  },
  {
   "cell_type": "code",
   "execution_count": 1,
   "id": "348c65e9",
   "metadata": {},
   "outputs": [
    {
     "name": "stdout",
     "output_type": "stream",
     "text": [
      "Enter a number: 133\n",
      "The factorial of 133 is 14872707060906857289084508911813048098675809251055070300508818286592035566485075754388082124671571841702793317081960037166525246368924700537538282948117301741317436012998958826217903503076596121600000000000000000000000000000000\n"
     ]
    }
   ],
   "source": [
    "def factorial(n):\n",
    "    if n == 0:\n",
    "        return 1\n",
    "    else:\n",
    "        return n * factorial(n - 1)\n",
    "\n",
    "# Get input from the user\n",
    "num = int(input(\"Enter a number: \"))\n",
    "\n",
    "if num < 0:\n",
    "    print(\"Factorial is not defined for negative numbers.\")\n",
    "else:\n",
    "    result = factorial(num)\n",
    "    print(f\"The factorial of {num} is {result}\")\n"
   ]
  },
  {
   "cell_type": "markdown",
   "id": "8256433b",
   "metadata": {},
   "source": [
    "# 12.\tWrite a python program to find whether a number is prime or composite. \n",
    "\n",
    "\n"
   ]
  },
  {
   "cell_type": "code",
   "execution_count": 2,
   "id": "6b1007b3",
   "metadata": {},
   "outputs": [
    {
     "name": "stdout",
     "output_type": "stream",
     "text": [
      "Enter a number: 12\n",
      "12 is a composite number.\n"
     ]
    }
   ],
   "source": [
    "def is_prime(n):\n",
    "    if n <= 1:\n",
    "        return False\n",
    "    if n <= 3:\n",
    "        return True\n",
    "    if n % 2 == 0 or n % 3 == 0:\n",
    "        return False\n",
    "    \n",
    "    i = 5\n",
    "    while i * i <= n:\n",
    "        if n % i == 0 or n % (i + 2) == 0:\n",
    "            return False\n",
    "        i += 6\n",
    "    return True\n",
    "\n",
    "# Get input from the user\n",
    "num = int(input(\"Enter a number: \"))\n",
    "\n",
    "if is_prime(num):\n",
    "    print(f\"{num} is a prime number.\")\n",
    "else:\n",
    "    print(f\"{num} is a composite number.\")\n"
   ]
  },
  {
   "cell_type": "markdown",
   "id": "64309315",
   "metadata": {},
   "source": [
    "# 13.\tWrite a python program to check whether a given string is palindrome or not. \n",
    "\n"
   ]
  },
  {
   "cell_type": "code",
   "execution_count": 3,
   "id": "644dc530",
   "metadata": {},
   "outputs": [
    {
     "name": "stdout",
     "output_type": "stream",
     "text": [
      "Enter a string: abca\n",
      "abca is not a palindrome.\n"
     ]
    }
   ],
   "source": [
    "def is_palindrome(s):\n",
    "    s = s.lower()  # Convert to lowercase for case-insensitive comparison\n",
    "    s = s.replace(\" \", \"\")  # Remove spaces\n",
    "    \n",
    "    return s == s[::-1]  # Compare the string with its reverse\n",
    "\n",
    "# Get input from the user\n",
    "string = input(\"Enter a string: \")\n",
    "\n",
    "if is_palindrome(string):\n",
    "    print(f\"{string} is a palindrome.\")\n",
    "else:\n",
    "    print(f\"{string} is not a palindrome.\")\n"
   ]
  },
  {
   "cell_type": "markdown",
   "id": "7c14a41d",
   "metadata": {},
   "source": [
    "# 14.\tWrite a Python program to get the third side of right-angled triangle from two given sides. \n",
    "\n"
   ]
  },
  {
   "cell_type": "code",
   "execution_count": 4,
   "id": "c8e58ea2",
   "metadata": {},
   "outputs": [
    {
     "name": "stdout",
     "output_type": "stream",
     "text": [
      "Enter the length of the first side: 4\n",
      "Enter the length of the second side: 5\n",
      "The length of the third side is: 6.4031242374328485\n"
     ]
    }
   ],
   "source": [
    "def find_third_side(side1, side2):\n",
    "    third_side_squared = side1**2 + side2**2\n",
    "    third_side = third_side_squared ** 0.5\n",
    "    return third_side\n",
    "\n",
    "# Get input from the user\n",
    "side1 = float(input(\"Enter the length of the first side: \"))\n",
    "side2 = float(input(\"Enter the length of the second side: \"))\n",
    "\n",
    "third_side = find_third_side(side1, side2)\n",
    "print(f\"The length of the third side is: {third_side}\")\n"
   ]
  },
  {
   "cell_type": "markdown",
   "id": "c2461435",
   "metadata": {},
   "source": [
    "# 15.\tWrite a python program to print the frequency of each of the characters present in a given string. \n",
    "\n"
   ]
  },
  {
   "cell_type": "code",
   "execution_count": 5,
   "id": "2780ecbc",
   "metadata": {},
   "outputs": [
    {
     "name": "stdout",
     "output_type": "stream",
     "text": [
      "Enter a string:  Slam Dunk is a great anime it is considered as one of the greatest sport anime slam dun the anime movies relesased in 2023 is highest grossing \n",
      "Character frequencies:\n",
      "' ': 28\n",
      "'S': 1\n",
      "'l': 3\n",
      "'a': 10\n",
      "'m': 6\n",
      "'D': 1\n",
      "'u': 2\n",
      "'n': 9\n",
      "'k': 1\n",
      "'i': 12\n",
      "'s': 14\n",
      "'g': 5\n",
      "'r': 6\n",
      "'e': 16\n",
      "'t': 8\n",
      "'c': 1\n",
      "'o': 6\n",
      "'d': 4\n",
      "'f': 1\n",
      "'h': 4\n",
      "'p': 1\n",
      "'v': 1\n",
      "'2': 2\n",
      "'0': 1\n",
      "'3': 1\n"
     ]
    }
   ],
   "source": [
    "def character_frequency(s):\n",
    "    freq_dict = {}\n",
    "    \n",
    "    for char in s:\n",
    "        if char in freq_dict:\n",
    "            freq_dict[char] += 1\n",
    "        else:\n",
    "            freq_dict[char] = 1\n",
    "    \n",
    "    return freq_dict\n",
    "\n",
    "# Get input from the user\n",
    "string = input(\"Enter a string: \")\n",
    "\n",
    "freq = character_frequency(string)\n",
    "\n",
    "print(\"Character frequencies:\")\n",
    "for char, count in freq.items():\n",
    "    print(f\"'{char}': {count}\")\n"
   ]
  },
  {
   "cell_type": "code",
   "execution_count": null,
   "id": "0d4ab6ab",
   "metadata": {},
   "outputs": [],
   "source": []
  }
 ],
 "metadata": {
  "kernelspec": {
   "display_name": "Python 3 (ipykernel)",
   "language": "python",
   "name": "python3"
  },
  "language_info": {
   "codemirror_mode": {
    "name": "ipython",
    "version": 3
   },
   "file_extension": ".py",
   "mimetype": "text/x-python",
   "name": "python",
   "nbconvert_exporter": "python",
   "pygments_lexer": "ipython3",
   "version": "3.9.13"
  }
 },
 "nbformat": 4,
 "nbformat_minor": 5
}
